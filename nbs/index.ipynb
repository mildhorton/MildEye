{
 "cells": [
  {
   "cell_type": "code",
   "execution_count": 1,
   "metadata": {},
   "outputs": [
    {
     "ename": "ModuleNotFoundError",
     "evalue": "No module named 'MildEye'",
     "output_type": "error",
     "traceback": [
      "\u001b[31m---------------------------------------------------------------------------\u001b[39m",
      "\u001b[31mModuleNotFoundError\u001b[39m                       Traceback (most recent call last)",
      "\u001b[36mCell\u001b[39m\u001b[36m \u001b[39m\u001b[32mIn[1]\u001b[39m\u001b[32m, line 2\u001b[39m\n\u001b[32m      1\u001b[39m \u001b[38;5;66;03m#| hide\u001b[39;00m\n\u001b[32m----> \u001b[39m\u001b[32m2\u001b[39m \u001b[38;5;28;01mfrom\u001b[39;00m\u001b[38;5;250m \u001b[39m\u001b[34;01mMildEye\u001b[39;00m\u001b[34;01m.\u001b[39;00m\u001b[34;01mcore\u001b[39;00m\u001b[38;5;250m \u001b[39m\u001b[38;5;28;01mimport\u001b[39;00m *\n",
      "\u001b[31mModuleNotFoundError\u001b[39m: No module named 'MildEye'"
     ]
    }
   ],
   "source": [
    "#| hide\n",
    "from MildEye.core import *"
   ]
  },
  {
   "cell_type": "markdown",
   "metadata": {},
   "source": [
    "# MildEye\n",
    "\n",
    "> A web application for passive residual income."
   ]
  },
  {
   "cell_type": "markdown",
   "metadata": {},
   "source": [
    "If you got here, i guess something was interesting. "
   ]
  },
  {
   "cell_type": "markdown",
   "metadata": {},
   "source": [
    "## Imposter Cheatsheet Guide"
   ]
  },
  {
   "cell_type": "markdown",
   "metadata": {},
   "source": [
    "If you struggled in a homeless foodline or begged for some money i hope this helps..!"
   ]
  },
  {
   "cell_type": "markdown",
   "metadata": {},
   "source": [
    "### Install MildEye in Development mode"
   ]
  },
  {
   "cell_type": "markdown",
   "metadata": {},
   "source": [
    "```sh\n",
    "# make sure MildEye package is installed in development mode\n",
    "$ pip install -e .\n",
    "\n",
    "# make changes under nbs/ directory\n",
    "# ...\n",
    "\n",
    "# compile to have changes apply to MildEye\n",
    "$ nbdev_prepare\n",
    "```"
   ]
  },
  {
   "cell_type": "markdown",
   "metadata": {},
   "source": [
    "## Usage"
   ]
  },
  {
   "cell_type": "markdown",
   "metadata": {},
   "source": [
    "### Installation"
   ]
  },
  {
   "cell_type": "markdown",
   "metadata": {},
   "source": [
    "Install latest from the GitHub [repository][repo]:\n",
    "\n",
    "```sh\n",
    "$ pip install git+https://github.com/mildhorton/MildEye.git\n",
    "```\n",
    "\n",
    "or from [conda][conda]\n",
    "\n",
    "```sh\n",
    "$ conda install -c mildhorton MildEye\n",
    "```\n",
    "\n",
    "or from [pypi][pypi]\n",
    "\n",
    "\n",
    "```sh\n",
    "$ pip install MildEye\n",
    "```\n",
    "\n",
    "\n",
    "[repo]: https://github.com/mildhorton/MildEye\n",
    "[docs]: https://mildhorton.github.io/MildEye/\n",
    "[pypi]: https://pypi.org/project/MildEye/\n",
    "[conda]: https://anaconda.org/mildhorton/MildEye"
   ]
  },
  {
   "cell_type": "markdown",
   "metadata": {},
   "source": [
    "### Documentation"
   ]
  },
  {
   "cell_type": "markdown",
   "metadata": {},
   "source": [
    "Documentation can be found hosted on this GitHub [repository][repo]'s [pages][docs]. Additionally you can find package manager specific guidelines on [conda][conda] and [pypi][pypi] respectively.\n",
    "\n",
    "[repo]: https://github.com/mildhorton/MildEye\n",
    "[docs]: https://mildhorton.github.io/MildEye/\n",
    "[pypi]: https://pypi.org/project/MildEye/\n",
    "[conda]: https://anaconda.org/mildhorton/MildEye"
   ]
  },
  {
   "cell_type": "markdown",
   "metadata": {},
   "source": [
    "## How to use"
   ]
  },
  {
   "cell_type": "markdown",
   "metadata": {},
   "source": [
    "Fill me in please! Don't forget code examples:"
   ]
  },
  {
   "cell_type": "code",
   "execution_count": 2,
   "metadata": {},
   "outputs": [],
   "source": [
    "from fasthtml.common import *\n",
    "\n",
    "# Initialize the application\n",
    "app,rt, = fast_app()\n",
    "\n",
    "# Define the root route\n",
    "@rt('/')\n",
    "def get():\n",
    "    return Div(P('Hello World!'))\n",
    "\n",
    "# Run the app\n",
    "serve()"
   ]
  },
  {
   "cell_type": "code",
   "execution_count": 3,
   "metadata": {},
   "outputs": [],
   "source": [
    "from typing import Union\n",
    "\n",
    "from fastapi import FastAPI"
   ]
  },
  {
   "cell_type": "code",
   "execution_count": 4,
   "metadata": {},
   "outputs": [
    {
     "name": "stderr",
     "output_type": "stream",
     "text": [
      "Bad pipe message: %s [b'0.9,image/avif,image/webp,image/apng,*/*;q=0.8,application/signed-exchange;v=b3;q=0.7\\r\\nHost: localhost:41753\\r\\nUs', b'-Agent: Mozilla/5.0 (X11; CrOS x86_64 14541.0.0) AppleWebKit/537.36 (KHTML, like Gecko) Chrome/137.0']\n",
      "Bad pipe message: %s [b'.0 Safari/537.36\\r\\nAccept-Encoding: gzip, defl']\n",
      "Bad pipe message: %s [b'e, br, zstd\\r\\nAccept-Language: en-US,en;q=0.9\\r\\nReferer: https://laughing-capybara-g94vjgrg69p2pvj']\n",
      "Bad pipe message: %s [b'github.dev/\\r\\nX-Request-ID: 642f91f20095c358efe47c11c2c']\n",
      "Bad pipe message: %s [b'e66\\r\\nX-Real-IP: 107.77.212.181\\r\\nX-Forwarded-Port']\n",
      "Bad pipe message: %s [b'443\\r\\nX-Forwarded-Scheme: https\\r\\nX-Original-URI: /\\r\\nX-Sche']\n",
      "Bad pipe message: %s [b': https\\r\\nsec-ch-ua: \"Google Chrome\";v=\"137\", \"Chromium\";v=\"137\", \"Not/A)Brand\";v=\"24\"\\r\\nsec-ch-ua-mobile: ?0\\r', b'ec-ch-ua-', b'atform: \"Chrome OS\"\\r\\nDNT: 1\\r\\nsec-fetch-site: same-site\\r\\nsec-fetch-mode: navigate\\r\\nsec-fetch-user: ?1\\r\\nsec-fetch']\n",
      "Bad pipe message: %s [b'est: document\\r\\npriority: u=0, i\\r\\nX-Original-']\n",
      "Bad pipe message: %s [b'oto: https\\r\\nX-Forwarded-Proto: https\\r\\nX-Forwarded-Host: laughing-capybara-g94vj']\n",
      "Bad pipe message: %s [b'0.9,image/avif,image/webp,image/apng,*/*;q=0.8,application/signed-exchange;v=b3;q=0.7\\r\\nHost: localhost:41753\\r\\nUs', b'-Agent: Mozilla/5.0 (X11; CrOS x86_64 14541.0.0) AppleWebKit/537.36 (KHTML, like Gecko) Chrome/137.0']\n",
      "Bad pipe message: %s [b'.0 Safari/537.36\\r\\nAccept-Encoding: gzip, defl']\n",
      "Bad pipe message: %s [b'e, br, zstd\\r\\nAccept-Language: en-US,en;q=0.9\\r\\nReferer: https://laughing-capybara-g94vjgrg69p2pvj']\n",
      "Bad pipe message: %s [b'github.dev/\\r\\nX-Request-ID: b62521efb3a3d8cb9c50d194298']\n",
      "Bad pipe message: %s [b'99c\\r\\nX-Real-IP: 107.77.212.181\\r\\nX-Forwarded-Por']\n",
      "Bad pipe message: %s [b' 443\\r\\nX-Forwarded-Scheme: https\\r\\nX-Original-URI: /\\r\\nX-Scheme: https\\r\\nsec-ch-ua: \"Google Chrome\";v=\"137\", \"Chromium\"']\n",
      "Bad pipe message: %s [b'=\"137\", \"Not/A)Brand\";v=\"24\"\\r\\nsec-ch-ua-mobile: ?0\\r\\nsec-ch']\n",
      "Bad pipe message: %s [b'a-platform: \"Chrome OS\"\\r\\nDNT: 1\\r\\nsec-fetch-s', b'e: same-site\\r\\nsec-fetch-mode: navigate\\r\\nsec-fetch-user: ?1\\r\\nsec-fetch-dest: document\\r\\npriority: u=0, i\\r\\n']\n",
      "Bad pipe message: %s [b'Original-Proto: https\\r\\nX-Forwarded-Proto: https\\r\\nX-Forwarded-Host: laughing-capybara-g9', b'jgrg69p2pvj7-41753.app.github.dev\\r\\nX-Forwarded-For:']\n"
     ]
    }
   ],
   "source": [
    "app = FastAPI()\n",
    "\n",
    "\n",
    "@app.get(\"/\")\n",
    "def read_root():\n",
    "    return {\"Hello\": \"World\"}\n",
    "\n",
    "\n",
    "@app.get(\"/items/{item_id}\")\n",
    "def read_item(item_id: int, q: Union[str, None] = None):\n",
    "    return {\"item_id\": item_id, \"q\": q}"
   ]
  },
  {
   "cell_type": "code",
   "execution_count": null,
   "metadata": {},
   "outputs": [],
   "source": []
  },
  {
   "cell_type": "code",
   "execution_count": null,
   "metadata": {},
   "outputs": [],
   "source": []
  }
 ],
 "metadata": {
  "kernelspec": {
   "display_name": "venv",
   "language": "python",
   "name": "python3"
  },
  "language_info": {
   "codemirror_mode": {
    "name": "ipython",
    "version": 3
   },
   "file_extension": ".py",
   "mimetype": "text/x-python",
   "name": "python",
   "nbconvert_exporter": "python",
   "pygments_lexer": "ipython3",
   "version": "3.12.1"
  }
 },
 "nbformat": 4,
 "nbformat_minor": 4
}
